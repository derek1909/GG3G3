{
 "cells": [
  {
   "cell_type": "code",
   "execution_count": 2,
   "id": "df3dac51",
   "metadata": {},
   "outputs": [
    {
     "name": "stdout",
     "output_type": "stream",
     "text": [
      "Ramp marginal log-likelihood inferred： 77.42327094078064 s\n",
      "Step marginal log-likelihood inferred： 14.386709213256836 s\n",
      "1/100, 92.12125325202942 s\n"
     ]
    },
    {
     "ename": "KeyboardInterrupt",
     "evalue": "",
     "output_type": "error",
     "traceback": [
      "\u001b[0;31m---------------------------------------------------------------------------\u001b[0m",
      "\u001b[0;31mKeyboardInterrupt\u001b[0m                         Traceback (most recent call last)",
      "Cell \u001b[0;32mIn[2], line 58\u001b[0m\n\u001b[1;32m     56\u001b[0m [ramp_spikes, _, _, _, _] \u001b[38;5;241m=\u001b[39m ramp\u001b[38;5;241m.\u001b[39msimulate_HMM(Ntrials\u001b[38;5;241m=\u001b[39mN, T\u001b[38;5;241m=\u001b[39mT, K\u001b[38;5;241m=\u001b[39mK, get_rate\u001b[38;5;241m=\u001b[39m\u001b[38;5;28;01mTrue\u001b[39;00m)\n\u001b[1;32m     57\u001b[0m counts_matrix\u001b[38;5;241m=\u001b[39m generate_psth(spike_trains\u001b[38;5;241m=\u001b[39mramp_spikes, return_counts\u001b[38;5;241m=\u001b[39m\u001b[38;5;28;01mTrue\u001b[39;00m);\n\u001b[0;32m---> 58\u001b[0m logMLRs[b_idx,s_idx], ramp_MLLs[b_idx,s_idx], step_MLLs[b_idx,s_idx] \u001b[38;5;241m=\u001b[39m \u001b[43mMLR_calculator\u001b[49m\u001b[43m(\u001b[49m\u001b[43mcounts_matrix\u001b[49m\u001b[43m,\u001b[49m\u001b[43m \u001b[49m\u001b[43mM\u001b[49m\u001b[43m \u001b[49m\u001b[38;5;241;43m=\u001b[39;49m\u001b[43m \u001b[49m\u001b[43mnum_grid\u001b[49m\u001b[43m,\u001b[49m\u001b[43m \u001b[49m\u001b[43mK\u001b[49m\u001b[43m \u001b[49m\u001b[38;5;241;43m=\u001b[39;49m\u001b[43m \u001b[49m\u001b[43mK\u001b[49m\u001b[43m,\u001b[49m\u001b[43m \u001b[49m\u001b[43mPrint\u001b[49m\u001b[38;5;241;43m=\u001b[39;49m\u001b[38;5;28;43;01mTrue\u001b[39;49;00m\u001b[43m)\u001b[49m\n\u001b[1;32m     60\u001b[0m end_time \u001b[38;5;241m=\u001b[39m time\u001b[38;5;241m.\u001b[39mtime()\n\u001b[1;32m     61\u001b[0m elapsed_time \u001b[38;5;241m=\u001b[39m end_time \u001b[38;5;241m-\u001b[39m start_time\n",
      "File \u001b[0;32m~/Desktop/GG3 jd976/GG3G5/models2.py:101\u001b[0m, in \u001b[0;36mMLR_calculator\u001b[0;34m(counts_matrix, M, K, Print)\u001b[0m\n\u001b[1;32m     99\u001b[0m             \u001b[38;5;66;03m# Model log-likelihood for N trials:\u001b[39;00m\n\u001b[1;32m    100\u001b[0m             \u001b[38;5;28;01mfor\u001b[39;00m n \u001b[38;5;129;01min\u001b[39;00m \u001b[38;5;28mrange\u001b[39m(N):\n\u001b[0;32m--> 101\u001b[0m                 model_ll[b_idx, s_idx, x_idx] \u001b[38;5;241m+\u001b[39m\u001b[38;5;241m=\u001b[39m \u001b[43mhmm_normalizer\u001b[49m\u001b[43m(\u001b[49m\u001b[43mlog_pi0\u001b[49m\u001b[43m \u001b[49m\u001b[38;5;241;43m=\u001b[39;49m\u001b[43m \u001b[49m\u001b[43mnormalized_log_pi0\u001b[49m\u001b[43m,\u001b[49m\u001b[43m \u001b[49m\n\u001b[1;32m    102\u001b[0m \u001b[43m                                                                \u001b[49m\u001b[43mlog_Ps\u001b[49m\u001b[43m \u001b[49m\u001b[38;5;241;43m=\u001b[39;49m\u001b[43m \u001b[49m\u001b[43mnormalized_log_trans_matrix\u001b[49m\u001b[43m,\u001b[49m\u001b[43m \u001b[49m\n\u001b[1;32m    103\u001b[0m \u001b[43m                                                                \u001b[49m\u001b[43mll\u001b[49m\u001b[43m \u001b[49m\u001b[38;5;241;43m=\u001b[39;49m\u001b[43m \u001b[49m\u001b[43mlls\u001b[49m\u001b[43m[\u001b[49m\u001b[43mn\u001b[49m\u001b[43m]\u001b[49m\u001b[43m)\u001b[49m\n\u001b[1;32m    105\u001b[0m \u001b[38;5;66;03m# convert all nan to -inf\u001b[39;00m\n\u001b[1;32m    106\u001b[0m model_ll \u001b[38;5;241m=\u001b[39m np\u001b[38;5;241m.\u001b[39mnan_to_num(model_ll, nan\u001b[38;5;241m=\u001b[39m\u001b[38;5;241m-\u001b[39mnp\u001b[38;5;241m.\u001b[39minf)\n",
      "File \u001b[0;32m~/Desktop/GG3 jd976/GG3G5/inference.py:108\u001b[0m, in \u001b[0;36mhmm_normalizer\u001b[0;34m(log_pi0, log_Ps, ll)\u001b[0m\n\u001b[1;32m    101\u001b[0m     alphas \u001b[38;5;241m=\u001b[39m np\u001b[38;5;241m.\u001b[39mzeros((T, K))\n\u001b[1;32m    103\u001b[0m \u001b[38;5;66;03m#     # Make sure everything is C contiguous\u001b[39;00m\n\u001b[1;32m    104\u001b[0m \u001b[38;5;66;03m#     pi0 = to_c(pi0)\u001b[39;00m\n\u001b[1;32m    105\u001b[0m \u001b[38;5;66;03m#     Ps = to_c(Ps)\u001b[39;00m\n\u001b[1;32m    106\u001b[0m \u001b[38;5;66;03m#     ll = to_c(ll)\u001b[39;00m\n\u001b[0;32m--> 108\u001b[0m     \u001b[43mforward_pass\u001b[49m\u001b[43m(\u001b[49m\u001b[43mlog_pi0\u001b[49m\u001b[43m,\u001b[49m\u001b[43m \u001b[49m\u001b[43mlog_Ps\u001b[49m\u001b[43m,\u001b[49m\u001b[43m \u001b[49m\u001b[43mll\u001b[49m\u001b[43m,\u001b[49m\u001b[43m \u001b[49m\u001b[43malphas\u001b[49m\u001b[43m)\u001b[49m\n\u001b[1;32m    109\u001b[0m     out \u001b[38;5;241m=\u001b[39m logsumexp_scipy(alphas[\u001b[38;5;241m-\u001b[39m\u001b[38;5;241m1\u001b[39m])\n\u001b[1;32m    110\u001b[0m     \u001b[38;5;28;01mreturn\u001b[39;00m out\n",
      "\u001b[0;31mKeyboardInterrupt\u001b[0m: "
     ]
    }
   ],
   "source": [
    "# Examine the upper limit of MLL=1/M**3 (M is num of grid) for step\n",
    "# 0->Step, 1->Ramp\n",
    "# def generate_test_spike_trains(M=20, N=400, T=100, rmin=1, rmax=100, \n",
    "#                                bmin=0, bmax=4, logsmin=0.04, logsmax=4, \n",
    "#                                mmin=0, mmax=100, xmin=0, xmax=1,\n",
    "#                                model=\"original\", GammaShape=None):\n",
    "\n",
    "from models import *\n",
    "from models2 import *\n",
    "from inference import *\n",
    "import numpy as np\n",
    "import matplotlib.pyplot as plt\n",
    "import matplotlib.colors as colors\n",
    "import matplotlib.ticker as ticker\n",
    "import time\n",
    "N=400 \n",
    "num_grid = 10\n",
    "K=20\n",
    "T=100\n",
    "\n",
    "\n",
    "start_time = time.time()\n",
    "time_points = np.linspace(1,T,T) # 0,1,2,...\n",
    "dt = 1/T\n",
    "time_ms = time_points * dt * 1e3\n",
    "\n",
    "Rh = 50\n",
    "\n",
    "st = np.arange(K) # states\n",
    "xt = st/(K-1)\n",
    "\n",
    "start_time = time.time()\n",
    "\n",
    "values_r = np.linspace(1, 10, num_grid)\n",
    "values_m = np.linspace(0, 100, num_grid)\n",
    "values_logs = np.linspace(np.log(0.04), np.log(4),num_grid) # -3.22 - 1.386\n",
    "values_b = np.linspace(0, 4, num_grid)\n",
    "values_x0 = np.linspace(0, 1, num_grid)\n",
    "\n",
    "logMLRs = np.zeros((num_grid,num_grid))\n",
    "ramp_MLLs = np.zeros((num_grid,num_grid))\n",
    "step_MLLs = np.zeros((num_grid,num_grid))\n",
    "\n",
    "x0=0.2\n",
    "num = 0\n",
    "for b_idx in range(num_grid):\n",
    "    for s_idx in range(num_grid):\n",
    "#         for x_idx in range(num_grid):\n",
    "\n",
    "        \n",
    "        b = values_b[b_idx]\n",
    "        logs = values_logs[s_idx]\n",
    "#             x0 = values_x0[x_idx]\n",
    "\n",
    "        ramp = RampModel(beta=b, sigma=np.exp(logs), x0=x0, Rh=50)\n",
    "        [ramp_spikes, _, _, _, _] = ramp.simulate_HMM(Ntrials=N, T=T, K=K, get_rate=True)\n",
    "        counts_matrix= generate_psth(spike_trains=ramp_spikes, return_counts=True);\n",
    "        logMLRs[b_idx,s_idx], ramp_MLLs[b_idx,s_idx], step_MLLs[b_idx,s_idx] = MLR_calculator(counts_matrix, M = num_grid, K = K, Print=True)\n",
    "\n",
    "        end_time = time.time()\n",
    "        elapsed_time = end_time - start_time\n",
    "        num+=1\n",
    "        print(f\"{num}/{num_grid**2}, {elapsed_time} s\")\n"
   ]
  },
  {
   "cell_type": "code",
   "execution_count": null,
   "id": "ecb2b917",
   "metadata": {},
   "outputs": [],
   "source": [
    "fig, ax = plt.subplots(1, 1, figsize=(5, 4))\n",
    "ave_logMLRs = logMLRs/N\n",
    "\n",
    "X, Y = np.meshgrid(np.exp(values_logs), values_b)\n",
    "\n",
    "im = ax.pcolormesh(X, Y, ave_logMLRs, cmap='RdBu', vmin=-1, vmax=1)\n",
    "ax.set_xscale('log')\n",
    "ax.xaxis.set_major_formatter(ticker.FuncFormatter(lambda y, _: '{:g}'.format(y)))\n",
    "\n",
    "ax.set_title(\"logMLRs (data generated by ramp)\")\n",
    "ax.set_xlabel(\"sigma\")\n",
    "ax.set_ylabel(\"beta\")\n",
    "# plt.xticks(range(M), [1, 25, 50, 75, 100])\n",
    "# plt.yticks(range(M), [0, 25, 50, 75, 100])\n",
    "ax.legend()\n",
    "fig.colorbar(im) #, shrink=0.25) \n",
    "\n",
    "print(f\"ramp precision: {np.sum(ave_logMLRs > 0)/num_grid**2*100}%, n: {N}\")"
   ]
  }
 ],
 "metadata": {
  "kernelspec": {
   "display_name": "Python 3 (ipykernel)",
   "language": "python",
   "name": "python3"
  },
  "language_info": {
   "codemirror_mode": {
    "name": "ipython",
    "version": 3
   },
   "file_extension": ".py",
   "mimetype": "text/x-python",
   "name": "python",
   "nbconvert_exporter": "python",
   "pygments_lexer": "ipython3",
   "version": "3.9.16"
  }
 },
 "nbformat": 4,
 "nbformat_minor": 5
}
